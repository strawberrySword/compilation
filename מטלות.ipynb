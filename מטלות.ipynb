{
 "cells": [
  {
   "cell_type": "markdown",
   "id": "7554cc99",
   "metadata": {},
   "source": [
    "# אוקיי אז ככה זה מה שיש לעשות"
   ]
  },
  {
   "cell_type": "markdown",
   "id": "2414d4cb",
   "metadata": {},
   "source": [
    "&#x2610; unchecked\n",
    "&#x2611; checked"
   ]
  },
  {
   "cell_type": "markdown",
   "id": "a176cb3a",
   "metadata": {},
   "source": [
    "## Annotate AST"
   ]
  },
  {
   "cell_type": "markdown",
   "id": "0e4c8e01",
   "metadata": {},
   "source": [
    "&#x2610; Figure out which annotations we need \\\n",
    "&#x2610; Fix SemantMe() to write annotations as the symbol table exists"
   ]
  },
  {
   "cell_type": "markdown",
   "id": "84400bb1",
   "metadata": {},
   "source": [
    "## Generate IR"
   ]
  },
  {
   "cell_type": "markdown",
   "id": "b4e8b246",
   "metadata": {},
   "source": [
    " &#x2610; Take annotations and write in IR objects \\\n",
    " &#x2610; Register allocation"
   ]
  },
  {
   "cell_type": "markdown",
   "id": "e586e5b4",
   "metadata": {},
   "source": [
    "## Translate IR to MIPS"
   ]
  },
  {
   "cell_type": "markdown",
   "id": "52a22cce",
   "metadata": {},
   "source": [
    " &#x2610; Write MIPSMe() for all IR"
   ]
  }
 ],
 "metadata": {
  "language_info": {
   "name": "python"
  }
 },
 "nbformat": 4,
 "nbformat_minor": 5
}
